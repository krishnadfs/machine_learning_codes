# -*- coding: utf-8 -*-
"""
Created on Fri Mar 26 11:24:43 2021

@author: MADHAVI
"""


import pandas as pd 
import numpy as np 
from sklearn.datasets import load_boston
import mglearn 
import matplotlib.pyplot as plt 


# ======================================
# EXAMPLE FOR CLASSIFICATION DATA SET: FORGE DATE 
# following data consists of three dimensional normalized data 
# with two features as input features and one feature as output feature 
# ======================================
 
forge_data_set = mglearn.datasets.make_forge()
x_frg_data, y_frg_data = forge_data_set

# using scatter plot to understand the distribution of data 
# Discrete_scatter will help to understand the INPUT vs OUTPUT 
mglearn.discrete_scatter(x_frg_data[:,0], x_frg_data[:,1], y_frg_data)
plt.figure(num=1)
plt.legend(["Class-0", "Class-1"], loc=4)
plt.xlabel('First Feature', fontsize = 12)
plt.xticks(fontsize=10)
plt.ylabel('Second Feature', fontsize = 12)
plt.title('example for classification - two state problem')
plt.show()
print("x_data.shape: {}".format(x_frg_data.shape))


# ======================================
# EXAMPLE FOR REGRESSION DATA SET : WAVE DATA
# This data consists of two variables data 
# with two features as input features and one feature as output feature 
# ======================================

wave_data_set = mglearn.datasets.make_wave()
x_wave_data, y_wave_data = wave_data_set
mglearn.discrete_scatter(x_wave_data, y_wave_data)
plt.figure(num=1)
plt.legend(["samples"], loc=4)
plt.xlabel("normalized scale", fontsize = 12)
plt.xticks(fontsize=10)
plt.ylabel('normalized scale', fontsize = 12)
plt.title('example for regression - uni dimensional problem')
plt.show()
print("x_data.shape: {}".format(x_wave_data.shape))
