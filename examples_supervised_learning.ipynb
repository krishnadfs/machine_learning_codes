
import pandas as pd 
import numpy as np 
from sklearn.datasets import load_boston
import mglearn 
import matplotlib.pyplot as plt 


# ======================================
# EXAMPLE FOR CLASSIFICATION DATA SET 
# following data consists of three dimensional normalized data 
# with two features as input features and one feature as output feature 
# ======================================
 
forge_data_set = mglearn.datasets.make_forge()
x_data, y_data = forge_data_set

# using scatter plot to understand the distribution of data 
# Discrete_scatter will help to understand the INPUT vs OUTPUT 
mglearn.discrete_scatter(x_data[:,0], x_data[:,1], y_data)
plt.legend(["Class-0", "Class-1"], loc=4)
plt.xlabel('First Feature', fontsize = 12)
plt.xticks(fontsize=10)
plt.ylabel('Second Feature', fontsize = 12)
print("x_data.shape: {}".format(x_data.shape))
